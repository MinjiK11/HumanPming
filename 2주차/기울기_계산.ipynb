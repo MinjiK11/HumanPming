{
  "nbformat": 4,
  "nbformat_minor": 0,
  "metadata": {
    "colab": {
      "name": "기울기 계산.ipynb",
      "provenance": [],
      "collapsed_sections": []
    },
    "kernelspec": {
      "name": "python3",
      "display_name": "Python 3"
    },
    "language_info": {
      "name": "python"
    }
  },
  "cells": [
    {
      "cell_type": "markdown",
      "source": [
        "# **기울기 계산**\n",
        "- z = 2x^2+3"
      ],
      "metadata": {
        "id": "-mZ4Dz5WpFK7"
      }
    },
    {
      "cell_type": "code",
      "source": [
        "import torch # 파이토치 (파이썬을 위한 오픈소스 머신 러닝 라이브러리) 불러오기"
      ],
      "metadata": {
        "id": "YDXx8hsQpSQE"
      },
      "execution_count": 1,
      "outputs": []
    },
    {
      "cell_type": "code",
      "source": [
        "x=torch.tensor(data=[2.0,3.0],requires_grad=True) # 모든 연산 (operation)을 추적\n",
        "y=x**2\n",
        "z=2*y+3"
      ],
      "metadata": {
        "id": "xIN5UM5tpeSD"
      },
      "execution_count": 2,
      "outputs": []
    },
    {
      "cell_type": "code",
      "source": [
        "target = torch.tensor([3.0,4.0]) # 목표값\n",
        "\n",
        "# z와 목표값의 절대값 차이 계산\n",
        "# backward는 스칼라 값에 대해 동작 -> 길이 2짜리 텐서인 loss를 torch.sum을 통해 하나의 숫자로 바꿔줌.\n",
        "loss = torch.sum(torch.abs(z-target))\n",
        "\n",
        "# loss에 대해 backward 적용\n",
        "loss.backward()\n",
        "\n",
        "# y, z는 기울기 None으로 나옴 -> x,y,z 중 x만 leaf node이기 때문\n",
        "print(x.grad, y.grad, z.grad)"
      ],
      "metadata": {
        "colab": {
          "base_uri": "https://localhost:8080/"
        },
        "id": "hOjknOt7qRlM",
        "outputId": "25a52e6b-81d9-4b10-e82f-3530e8c9c081"
      },
      "execution_count": 3,
      "outputs": [
        {
          "output_type": "stream",
          "name": "stdout",
          "text": [
            "tensor([ 8., 12.]) None None\n"
          ]
        },
        {
          "output_type": "stream",
          "name": "stderr",
          "text": [
            "/usr/local/lib/python3.7/dist-packages/torch/_tensor.py:1013: UserWarning: The .grad attribute of a Tensor that is not a leaf Tensor is being accessed. Its .grad attribute won't be populated during autograd.backward(). If you indeed want the .grad field to be populated for a non-leaf Tensor, use .retain_grad() on the non-leaf Tensor. If you access the non-leaf Tensor by mistake, make sure you access the leaf Tensor instead. See github.com/pytorch/pytorch/pull/30531 for more informations. (Triggered internally at  aten/src/ATen/core/TensorBody.h:417.)\n",
            "  return self._grad\n"
          ]
        }
      ]
    }
  ]
}
